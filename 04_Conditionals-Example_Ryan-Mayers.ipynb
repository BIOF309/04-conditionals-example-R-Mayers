{
 "cells": [
  {
   "cell_type": "markdown",
   "metadata": {},
   "source": [
    "# Conditionals Example Assignment"
   ]
  },
  {
   "cell_type": "code",
   "execution_count": null,
   "metadata": {},
   "outputs": [],
   "source": [
    "##Just a quick program that uses conditionals alongside a while loop to check if a user has put in any data at all\n",
    "##This code does not check for what the user entered, and so while functional, requires additional code to include further restrictions if the input is to be referred to in any way\n",
    "\n",
    "inputcheck = 0 #Check if anything is entered\n",
    "\n",
    "while inputcheck == 0 : #No data entered\n",
    "    userentry = input()\n",
    "    list(userentry) #So we can check length\n",
    "    if len(userentry) > 0 : #Can't enter an empty input\n",
    "        inputcheck = 2 #Successful entry\n",
    "    else :\n",
    "        print(\"Try again\") #Loop back\n",
    "\n",
    "print(\"Entry length: \" + str(len(userentry))) #No good reason for this, but it gives me something at the end of the day"
   ]
  }
 ],
 "metadata": {
  "kernelspec": {
   "display_name": "Python 3",
   "language": "python",
   "name": "python3"
  },
  "language_info": {
   "codemirror_mode": {
    "name": "ipython",
    "version": 3
   },
   "file_extension": ".py",
   "mimetype": "text/x-python",
   "name": "python",
   "nbconvert_exporter": "python",
   "pygments_lexer": "ipython3",
   "version": "3.6.1"
  }
 },
 "nbformat": 4,
 "nbformat_minor": 2
}
